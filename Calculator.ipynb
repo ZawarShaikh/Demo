{
 "cells": [
  {
   "cell_type": "code",
   "execution_count": null,
   "id": "853e3694",
   "metadata": {},
   "outputs": [],
   "source": []
  },
  {
   "cell_type": "markdown",
   "id": "dfecaa22",
   "metadata": {},
   "source": [
    "# We are going to make a simple calculator by using:\n",
    " - lists to store the results\n",
    " - functions for functionalities of a calculator\n",
    " - loop for taking repeatative inputs from the user\n",
    " - Strings for user input and for text formatting\n",
    " - integers for numerical inputs "
   ]
  },
  {
   "cell_type": "code",
   "execution_count": 30,
   "id": "6c512721",
   "metadata": {},
   "outputs": [],
   "source": [
    "# Making functions for each operation\n",
    "\n",
    "# For multiplication operation\n",
    "def multiply(var1, var2):\n",
    "    result = int(var1) * int(var2)\n",
    "    \n",
    "    return result\n",
    "    \n",
    "    \n",
    "# For division operation \n",
    "def division(var1, var2):\n",
    "    result = int(var1) / int(var2)\n",
    "    \n",
    "    return result\n",
    "\n",
    "\n",
    "# For addition operation\n",
    "def addition(var1, var2):\n",
    "    result = int(var1) + int(var2)\n",
    "\n",
    "    return result\n",
    "\n",
    "\n",
    "# For subtrraction operation\n",
    "def subtraction(var1, var2):\n",
    "    result = int(var1) - int(var2)\n",
    "    \n",
    "    return result"
   ]
  },
  {
   "cell_type": "code",
   "execution_count": 31,
   "id": "7138ecdc",
   "metadata": {},
   "outputs": [],
   "source": [
    "# Making lists to store the results of each operation\n",
    "\n",
    "multiply_list = []\n",
    "division_list = []\n",
    "addition_list = []\n",
    "subtraction_list = []"
   ]
  },
  {
   "cell_type": "code",
   "execution_count": 28,
   "id": "0b29264c",
   "metadata": {},
   "outputs": [
    {
     "data": {
      "text/plain": [
       "'jbjhbjbbhj'"
      ]
     },
     "execution_count": 28,
     "metadata": {},
     "output_type": "execute_result"
    }
   ],
   "source": [
    "sel_funct = \"JBJHBJBBHJ\"\n",
    "\n",
    "sel_funct.lower()"
   ]
  },
  {
   "cell_type": "code",
   "execution_count": 37,
   "id": "8e0579c4",
   "metadata": {},
   "outputs": [
    {
     "name": "stdout",
     "output_type": "stream",
     "text": [
      "Select Functionality from :-: Multiply, Division, Addition, Subtraction: addition\n",
      "\n",
      "3\n",
      "8\n",
      "The addition result is: 11\n",
      "Select Functionality from :-: Multiply, Division, Addition, Subtraction: subtraction\n",
      "\n",
      "3\n",
      "4\n",
      "The subtraction result is: -1\n",
      "Select Functionality from :-: Multiply, Division, Addition, Subtraction: division\n",
      "\n",
      "6\n",
      "2\n",
      "The division result is: 3.0\n",
      "Select Functionality from :-: Multiply, Division, Addition, Subtraction: multiplication\n",
      "\n",
      "Error, wrong operator entered: multiplication!!!\n"
     ]
    }
   ],
   "source": [
    "\n",
    "# Using while loop to take repeatative input\n",
    "while(True):\n",
    "    select_functionality = input(str(\"Select Functionality from :-: Multiply, Division, Addition, Subtraction: \"))\n",
    "    \n",
    "    \n",
    "\n",
    "    if select_functionality == \"multiply\":\n",
    "        print()\n",
    "        variable1 = input()\n",
    "        variable2 = input()\n",
    "        \n",
    "        mult_res = multiply(variable1, variable2)\n",
    "        multiply_list.append(mult_res)\n",
    "\n",
    "        print(f\"The multiplication result is: {int(variable1) * int(variable2)}\")\n",
    "        #print(multiply(variable1, variable2))\n",
    "\n",
    "\n",
    "    elif select_functionality.lower() == \"division\":\n",
    "        print()\n",
    "        variable1 = input()\n",
    "        variable2 = input()\n",
    "        \n",
    "        div_res = division(variable1, variable2)\n",
    "        division_list.append(div_res)\n",
    "\n",
    "        print(f\"The division result is: {int(variable1) / int(variable2)}\")\n",
    "        #print(division(variable1, variable2))\n",
    "\n",
    "\n",
    "    elif select_functionality.lower() == \"addition\":\n",
    "        print()\n",
    "        variable1 = input()\n",
    "        variable2 = input()\n",
    "        \n",
    "        add_res = addition(variable1, variable2)\n",
    "        addition_list.append(add_res)\n",
    "\n",
    "        print(f\"The addition result is: {int(variable1) + int(variable2)}\")\n",
    "        #print(addition(variable1, variable2))\n",
    "\n",
    "\n",
    "    elif select_functionality.lower() == \"subtraction\":\n",
    "        print()\n",
    "        variable1 = input()\n",
    "        variable2 = input()\n",
    "        \n",
    "        sub_res = subtraction(variable1, variable2)\n",
    "        subtraction_list.append(sub_res)\n",
    "\n",
    "        print(f\"The subtraction result is: {int(variable1) - int(variable2)}\")\n",
    "        #print(subtraction(variable1, variable2))\n",
    "    \n",
    "    \n",
    "    else:\n",
    "        print()\n",
    "        print(f\"Error, wrong operator entered: {select_functionality}!!!\")\n",
    "        break\n",
    "    "
   ]
  },
  {
   "cell_type": "code",
   "execution_count": 5,
   "id": "c812c205",
   "metadata": {},
   "outputs": [
    {
     "data": {
      "text/plain": [
       "[]"
      ]
     },
     "execution_count": 5,
     "metadata": {},
     "output_type": "execute_result"
    }
   ],
   "source": [
    "multiply_list"
   ]
  },
  {
   "cell_type": "code",
   "execution_count": 6,
   "id": "e9a6f71c",
   "metadata": {},
   "outputs": [
    {
     "data": {
      "text/plain": [
       "[]"
      ]
     },
     "execution_count": 6,
     "metadata": {},
     "output_type": "execute_result"
    }
   ],
   "source": [
    "division_list"
   ]
  },
  {
   "cell_type": "code",
   "execution_count": 7,
   "id": "aa4142b6",
   "metadata": {},
   "outputs": [
    {
     "data": {
      "text/plain": [
       "[2]"
      ]
     },
     "execution_count": 7,
     "metadata": {},
     "output_type": "execute_result"
    }
   ],
   "source": [
    "subtraction_list"
   ]
  },
  {
   "cell_type": "code",
   "execution_count": null,
   "id": "0d628133",
   "metadata": {},
   "outputs": [],
   "source": []
  }
 ],
 "metadata": {
  "kernelspec": {
   "display_name": "Python 3 (ipykernel)",
   "language": "python",
   "name": "python3"
  },
  "language_info": {
   "codemirror_mode": {
    "name": "ipython",
    "version": 3
   },
   "file_extension": ".py",
   "mimetype": "text/x-python",
   "name": "python",
   "nbconvert_exporter": "python",
   "pygments_lexer": "ipython3",
   "version": "3.11.5"
  }
 },
 "nbformat": 4,
 "nbformat_minor": 5
}
